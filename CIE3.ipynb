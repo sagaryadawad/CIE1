{
  "nbformat": 4,
  "nbformat_minor": 0,
  "metadata": {
    "colab": {
      "provenance": [],
      "authorship_tag": "ABX9TyM5E0qXTEFPcFzXfvYrwxe8",
      "include_colab_link": true
    },
    "kernelspec": {
      "name": "python3",
      "display_name": "Python 3"
    },
    "language_info": {
      "name": "python"
    }
  },
  "cells": [
    {
      "cell_type": "markdown",
      "metadata": {
        "id": "view-in-github",
        "colab_type": "text"
      },
      "source": [
        "<a href=\"https://colab.research.google.com/github/sagaryadawad/CIE1/blob/main/CIE3.ipynb\" target=\"_parent\"><img src=\"https://colab.research.google.com/assets/colab-badge.svg\" alt=\"Open In Colab\"/></a>"
      ]
    },
    {
      "cell_type": "code",
      "source": [
        "import pandas as pd\n",
        "from sklearn.model_selection import train_test_split\n",
        "import numpy as np\n",
        "from sklearn.datasets import fetch_california_housing\n",
        "from sklearn.linear_model import LinearRegression\n",
        "from sklearn.metrics import accuracy_score\n",
        "from sklearn.metrics import mean_squared_error, mean_absolute_error, r2_score\n",
        "housing = fetch_california_housing()\n",
        "\n",
        "\n",
        "\n",
        "df=pd.DataFrame(data=housing.data, columns=housing.feature_names)\n",
        "df['PRICE'] = housing.target\n",
        "print(df)\n",
        "\n",
        "\n",
        "df.info()\n",
        "df.head()\n",
        "df.describe()\n",
        "\n",
        "df.isnull().sum()\n",
        "\n",
        "\n",
        "X = pd.DataFrame(np.c_[df['HouseAge'], df['Population']])\n",
        "Y = df['PRICE']\n",
        "\n",
        "X_train, X_test, Y_train, Y_test = train_test_split(X, Y, test_size = 8, random_state=0)\n",
        "print(X_train.shape)\n",
        "print(X_test.shape)\n",
        "print(Y_train.shape)\n",
        "print(Y_test.shape)\n",
        "\n",
        "model = LinearRegression()\n",
        "model.fit(X_train, Y_train)\n",
        "model.intercept_\n",
        "model.coef_\n",
        "model.score(X_train, Y_train)\n",
        "model.score(X_test, Y_test)\n",
        "y_pred = model.predict(X_train)\n",
        "mse = mean_squared_error(Y_train, y_pred)\n",
        "rmse = np.sqrt(mse)\n",
        "mae = mean_absolute_error(Y_train, y_pred)\n",
        "r2 = r2_score(Y_train, y_pred)\n",
        "print('mean_squared_error:',mse)\n",
        "print('root_mean_squared_error:',rmse)\n",
        "print('mean_absolute_error:',mae)\n",
        "print('r2_score:',r2)\n",
        "\n",
        "y_pred = model.predict(X_test)\n",
        "mse = mean_squared_error(Y_test, y_pred)\n",
        "rmse = np.sqrt(mse)\n",
        "mae = mean_absolute_error(Y_test, y_pred)\n",
        "r2 = r2_score(Y_test, y_pred)\n",
        "print('mean_squared_error:',mse)\n",
        "print('root_mean_squared_error:',rmse)\n",
        "print('mean_absolute_error:',mae)\n",
        "print('r2_score:',r2)\n"
      ],
      "metadata": {
        "id": "Ir_x3eGZYQDc",
        "colab": {
          "base_uri": "https://localhost:8080/"
        },
        "outputId": "8d91d747-e3bf-4bf4-afef-7851ec7fb12e"
      },
      "execution_count": 14,
      "outputs": [
        {
          "output_type": "stream",
          "name": "stdout",
          "text": [
            "       MedInc  HouseAge  AveRooms  AveBedrms  Population  AveOccup  Latitude  \\\n",
            "0      8.3252      41.0  6.984127   1.023810       322.0  2.555556     37.88   \n",
            "1      8.3014      21.0  6.238137   0.971880      2401.0  2.109842     37.86   \n",
            "2      7.2574      52.0  8.288136   1.073446       496.0  2.802260     37.85   \n",
            "3      5.6431      52.0  5.817352   1.073059       558.0  2.547945     37.85   \n",
            "4      3.8462      52.0  6.281853   1.081081       565.0  2.181467     37.85   \n",
            "...       ...       ...       ...        ...         ...       ...       ...   \n",
            "20635  1.5603      25.0  5.045455   1.133333       845.0  2.560606     39.48   \n",
            "20636  2.5568      18.0  6.114035   1.315789       356.0  3.122807     39.49   \n",
            "20637  1.7000      17.0  5.205543   1.120092      1007.0  2.325635     39.43   \n",
            "20638  1.8672      18.0  5.329513   1.171920       741.0  2.123209     39.43   \n",
            "20639  2.3886      16.0  5.254717   1.162264      1387.0  2.616981     39.37   \n",
            "\n",
            "       Longitude  PRICE  \n",
            "0        -122.23  4.526  \n",
            "1        -122.22  3.585  \n",
            "2        -122.24  3.521  \n",
            "3        -122.25  3.413  \n",
            "4        -122.25  3.422  \n",
            "...          ...    ...  \n",
            "20635    -121.09  0.781  \n",
            "20636    -121.21  0.771  \n",
            "20637    -121.22  0.923  \n",
            "20638    -121.32  0.847  \n",
            "20639    -121.24  0.894  \n",
            "\n",
            "[20640 rows x 9 columns]\n",
            "<class 'pandas.core.frame.DataFrame'>\n",
            "RangeIndex: 20640 entries, 0 to 20639\n",
            "Data columns (total 9 columns):\n",
            " #   Column      Non-Null Count  Dtype  \n",
            "---  ------      --------------  -----  \n",
            " 0   MedInc      20640 non-null  float64\n",
            " 1   HouseAge    20640 non-null  float64\n",
            " 2   AveRooms    20640 non-null  float64\n",
            " 3   AveBedrms   20640 non-null  float64\n",
            " 4   Population  20640 non-null  float64\n",
            " 5   AveOccup    20640 non-null  float64\n",
            " 6   Latitude    20640 non-null  float64\n",
            " 7   Longitude   20640 non-null  float64\n",
            " 8   PRICE       20640 non-null  float64\n",
            "dtypes: float64(9)\n",
            "memory usage: 1.4 MB\n",
            "(20632, 2)\n",
            "(8, 2)\n",
            "(20632,)\n",
            "(8,)\n",
            "mse\n",
            "rmse\n",
            "mae\n",
            "r2\n",
            "mean_squared_error: 1.5128136772094556\n",
            "root_mean_squared_error: 1.229964908934176\n",
            "mean_absolute_error: 0.9808486323891634\n",
            "r2_score: -0.08933096939101826\n"
          ]
        }
      ]
    }
  ]
}